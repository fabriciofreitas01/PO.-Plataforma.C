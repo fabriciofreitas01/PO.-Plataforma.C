{
  "nbformat": 4,
  "nbformat_minor": 0,
  "metadata": {
    "colab": {
      "provenance": [],
      "toc_visible": true
    },
    "kernelspec": {
      "name": "python3",
      "display_name": "Python 3"
    },
    "language_info": {
      "name": "python"
    }
  },
  "cells": [
    {
      "cell_type": "code",
      "execution_count": 35,
      "metadata": {
        "id": "7A7tHe0LpE4K",
        "colab": {
          "base_uri": "https://localhost:8080/"
        },
        "outputId": "2156a101-0cb6-4e9f-c6d4-70ba4507ea65"
      },
      "outputs": [
        {
          "output_type": "stream",
          "name": "stdout",
          "text": [
            "A temperatura em Franca é: 19.94 °C\n",
            "O tempo em Franca esta nublado\n"
          ]
        }
      ],
      "source": [
        "import requests\n",
        "x= requests.get(\"https://api.openweathermap.org/data/2.5/weather?lat=-20.5418&lon=-47.4197&appid=946a02c35e1bb94c91ca2bc1654625e9&units=metric&lang=pt\")\n",
        "y=x.json()\n",
        "print('A temperatura em Franca é:', y['main']['temp'],'°C')\n",
        "print('O clima em Franca esta', y['weather'][0]['description'])"
      ]
    }
  ]
}